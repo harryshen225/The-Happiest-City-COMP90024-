{
 "cells": [
  {
   "cell_type": "code",
   "execution_count": 68,
   "metadata": {},
   "outputs": [],
   "source": [
    "import numpy as np\n",
    "import pandas as pd\n",
    "import matplotlib.pyplot as plt\n",
    "import json\n",
    "from pandas.io.json import json_normalize\n",
    "import re\n",
    "%matplotlib inline"
   ]
  },
  {
   "cell_type": "code",
   "execution_count": 69,
   "metadata": {},
   "outputs": [],
   "source": [
    "from mpi4py import MPI"
   ]
  },
  {
   "cell_type": "markdown",
   "metadata": {},
   "source": [
    "## 1. Read in the tweets data file"
   ]
  },
  {
   "cell_type": "code",
   "execution_count": 70,
   "metadata": {},
   "outputs": [],
   "source": [
    "with open('./data/tinyTwitter.json') as tw:\n",
    "    tweets = tw.read()\n",
    "    tweets_json = json.loads(tweets)"
   ]
  },
  {
   "cell_type": "code",
   "execution_count": 71,
   "metadata": {},
   "outputs": [],
   "source": [
    "tweets_df= json_normalize(tweets_json['rows'])\n",
    "tweets_df_info = pd.concat([tweets_df['value.properties.text'].apply(lambda text: text.lower()),tweets_df['doc.coordinates.coordinates']],axis=1)\n",
    "tweets_df_info.columns = ['Text','Coordinates']"
   ]
  },
  {
   "cell_type": "code",
   "execution_count": 72,
   "metadata": {},
   "outputs": [],
   "source": [
    "tweets_df_info[['lat','long']] = pd.DataFrame(tweets_df_info['Coordinates'].tolist(), index=tweets_df_info.index)"
   ]
  },
  {
   "cell_type": "code",
   "execution_count": 74,
   "metadata": {
    "scrolled": false
   },
   "outputs": [
    {
     "data": {
      "text/plain": [
       "19"
      ]
     },
     "execution_count": 74,
     "metadata": {},
     "output_type": "execute_result"
    }
   ],
   "source": [
    "tweets_df_info.head()\n",
    "len(tweets_df_info)"
   ]
  },
  {
   "cell_type": "code",
   "execution_count": 49,
   "metadata": {},
   "outputs": [
    {
     "data": {
      "text/plain": [
       "<pandas.core.indexing._iLocIndexer at 0x7fa242410350>"
      ]
     },
     "execution_count": 49,
     "metadata": {},
     "output_type": "execute_result"
    }
   ],
   "source": [
    "tweets_df_info.iloc()"
   ]
  },
  {
   "cell_type": "markdown",
   "metadata": {},
   "source": [
    "## 2. Read in the box cooredinates into a dataframe"
   ]
  },
  {
   "cell_type": "code",
   "execution_count": 50,
   "metadata": {},
   "outputs": [],
   "source": [
    "with open('./data/melbGrid.json') as f_m_grid:\n",
    "    mgrid = f_m_grid.read()\n",
    "    mgrid_json = json.loads(mgrid)\n",
    "    mgrid_df = json_normalize(mgrid_json['features'])"
   ]
  },
  {
   "cell_type": "code",
   "execution_count": 51,
   "metadata": {},
   "outputs": [],
   "source": [
    "mgrid_df_lite = pd.concat([mgrid_df['properties.id'], mgrid_df['properties.xmin'], mgrid_df['properties.xmax'], mgrid_df['properties.ymin'], mgrid_df['properties.ymax']],axis=1)\n",
    "mgrid_df_lite.columns = ['id','xmin','xmax','ymin','ymax']\n",
    "mgrid_df_lite=mgrid_df_lite.set_index('id')"
   ]
  },
  {
   "cell_type": "code",
   "execution_count": 52,
   "metadata": {},
   "outputs": [
    {
     "data": {
      "text/html": [
       "<div>\n",
       "<style scoped>\n",
       "    .dataframe tbody tr th:only-of-type {\n",
       "        vertical-align: middle;\n",
       "    }\n",
       "\n",
       "    .dataframe tbody tr th {\n",
       "        vertical-align: top;\n",
       "    }\n",
       "\n",
       "    .dataframe thead th {\n",
       "        text-align: right;\n",
       "    }\n",
       "</style>\n",
       "<table border=\"1\" class=\"dataframe\">\n",
       "  <thead>\n",
       "    <tr style=\"text-align: right;\">\n",
       "      <th></th>\n",
       "      <th>xmin</th>\n",
       "      <th>xmax</th>\n",
       "      <th>ymin</th>\n",
       "      <th>ymax</th>\n",
       "    </tr>\n",
       "    <tr>\n",
       "      <th>id</th>\n",
       "      <th></th>\n",
       "      <th></th>\n",
       "      <th></th>\n",
       "      <th></th>\n",
       "    </tr>\n",
       "  </thead>\n",
       "  <tbody>\n",
       "    <tr>\n",
       "      <td>A1</td>\n",
       "      <td>144.70</td>\n",
       "      <td>144.85</td>\n",
       "      <td>-37.65</td>\n",
       "      <td>-37.50</td>\n",
       "    </tr>\n",
       "    <tr>\n",
       "      <td>A2</td>\n",
       "      <td>144.85</td>\n",
       "      <td>145.00</td>\n",
       "      <td>-37.65</td>\n",
       "      <td>-37.50</td>\n",
       "    </tr>\n",
       "    <tr>\n",
       "      <td>A3</td>\n",
       "      <td>145.00</td>\n",
       "      <td>145.15</td>\n",
       "      <td>-37.65</td>\n",
       "      <td>-37.50</td>\n",
       "    </tr>\n",
       "    <tr>\n",
       "      <td>A4</td>\n",
       "      <td>145.15</td>\n",
       "      <td>145.30</td>\n",
       "      <td>-37.65</td>\n",
       "      <td>-37.50</td>\n",
       "    </tr>\n",
       "    <tr>\n",
       "      <td>B1</td>\n",
       "      <td>144.70</td>\n",
       "      <td>144.85</td>\n",
       "      <td>-37.80</td>\n",
       "      <td>-37.65</td>\n",
       "    </tr>\n",
       "    <tr>\n",
       "      <td>B2</td>\n",
       "      <td>144.85</td>\n",
       "      <td>145.00</td>\n",
       "      <td>-37.80</td>\n",
       "      <td>-37.65</td>\n",
       "    </tr>\n",
       "    <tr>\n",
       "      <td>B3</td>\n",
       "      <td>145.00</td>\n",
       "      <td>145.15</td>\n",
       "      <td>-37.80</td>\n",
       "      <td>-37.65</td>\n",
       "    </tr>\n",
       "    <tr>\n",
       "      <td>B4</td>\n",
       "      <td>145.15</td>\n",
       "      <td>145.30</td>\n",
       "      <td>-37.80</td>\n",
       "      <td>-37.65</td>\n",
       "    </tr>\n",
       "    <tr>\n",
       "      <td>C1</td>\n",
       "      <td>144.70</td>\n",
       "      <td>144.85</td>\n",
       "      <td>-37.95</td>\n",
       "      <td>-37.80</td>\n",
       "    </tr>\n",
       "    <tr>\n",
       "      <td>C2</td>\n",
       "      <td>144.85</td>\n",
       "      <td>145.00</td>\n",
       "      <td>-37.95</td>\n",
       "      <td>-37.80</td>\n",
       "    </tr>\n",
       "    <tr>\n",
       "      <td>C3</td>\n",
       "      <td>145.00</td>\n",
       "      <td>145.15</td>\n",
       "      <td>-37.95</td>\n",
       "      <td>-37.80</td>\n",
       "    </tr>\n",
       "    <tr>\n",
       "      <td>C4</td>\n",
       "      <td>145.15</td>\n",
       "      <td>145.30</td>\n",
       "      <td>-37.95</td>\n",
       "      <td>-37.80</td>\n",
       "    </tr>\n",
       "    <tr>\n",
       "      <td>C5</td>\n",
       "      <td>145.30</td>\n",
       "      <td>145.45</td>\n",
       "      <td>-37.95</td>\n",
       "      <td>-37.80</td>\n",
       "    </tr>\n",
       "    <tr>\n",
       "      <td>D3</td>\n",
       "      <td>145.00</td>\n",
       "      <td>145.15</td>\n",
       "      <td>-38.10</td>\n",
       "      <td>-37.95</td>\n",
       "    </tr>\n",
       "    <tr>\n",
       "      <td>D4</td>\n",
       "      <td>145.15</td>\n",
       "      <td>145.30</td>\n",
       "      <td>-38.10</td>\n",
       "      <td>-37.95</td>\n",
       "    </tr>\n",
       "    <tr>\n",
       "      <td>D5</td>\n",
       "      <td>145.30</td>\n",
       "      <td>145.45</td>\n",
       "      <td>-38.10</td>\n",
       "      <td>-37.95</td>\n",
       "    </tr>\n",
       "  </tbody>\n",
       "</table>\n",
       "</div>"
      ],
      "text/plain": [
       "      xmin    xmax   ymin   ymax\n",
       "id                              \n",
       "A1  144.70  144.85 -37.65 -37.50\n",
       "A2  144.85  145.00 -37.65 -37.50\n",
       "A3  145.00  145.15 -37.65 -37.50\n",
       "A4  145.15  145.30 -37.65 -37.50\n",
       "B1  144.70  144.85 -37.80 -37.65\n",
       "B2  144.85  145.00 -37.80 -37.65\n",
       "B3  145.00  145.15 -37.80 -37.65\n",
       "B4  145.15  145.30 -37.80 -37.65\n",
       "C1  144.70  144.85 -37.95 -37.80\n",
       "C2  144.85  145.00 -37.95 -37.80\n",
       "C3  145.00  145.15 -37.95 -37.80\n",
       "C4  145.15  145.30 -37.95 -37.80\n",
       "C5  145.30  145.45 -37.95 -37.80\n",
       "D3  145.00  145.15 -38.10 -37.95\n",
       "D4  145.15  145.30 -38.10 -37.95\n",
       "D5  145.30  145.45 -38.10 -37.95"
      ]
     },
     "execution_count": 52,
     "metadata": {},
     "output_type": "execute_result"
    }
   ],
   "source": [
    "mgrid_df_lite"
   ]
  },
  {
   "cell_type": "markdown",
   "metadata": {},
   "source": [
    "## 3. Define the function which determins the position of a data point"
   ]
  },
  {
   "cell_type": "code",
   "execution_count": 53,
   "metadata": {},
   "outputs": [],
   "source": [
    "def get_point_region(coord,mgrid_df):\n",
    "    allocated_region = None\n",
    "    for id,region in mgrid_df.iterrows(): \n",
    "        left_margin = coord[0]-region.xmin\n",
    "        right_margin = coord[0]-region.xmax\n",
    "        top_margin = coord[1]-region.ymax\n",
    "        bottom_margin = coord[1]-region.ymin\n",
    "        if((left_margin > 0 and right_margin <= 0) and (top_margin <= 0 and bottom_margin > 0)):\n",
    "            allocated_region = id\n",
    "            break\n",
    "    return allocated_region   "
   ]
  },
  {
   "cell_type": "code",
   "execution_count": 54,
   "metadata": {},
   "outputs": [],
   "source": [
    "tweets_df_info['region'] = tweets_df_info['Coordinates'].apply(get_point_region,mgrid_df=mgrid_df_lite)"
   ]
  },
  {
   "cell_type": "code",
   "execution_count": 55,
   "metadata": {},
   "outputs": [
    {
     "data": {
      "text/html": [
       "<div>\n",
       "<style scoped>\n",
       "    .dataframe tbody tr th:only-of-type {\n",
       "        vertical-align: middle;\n",
       "    }\n",
       "\n",
       "    .dataframe tbody tr th {\n",
       "        vertical-align: top;\n",
       "    }\n",
       "\n",
       "    .dataframe thead th {\n",
       "        text-align: right;\n",
       "    }\n",
       "</style>\n",
       "<table border=\"1\" class=\"dataframe\">\n",
       "  <thead>\n",
       "    <tr style=\"text-align: right;\">\n",
       "      <th></th>\n",
       "      <th>Text</th>\n",
       "      <th>Coordinates</th>\n",
       "      <th>lat</th>\n",
       "      <th>long</th>\n",
       "      <th>region</th>\n",
       "    </tr>\n",
       "  </thead>\n",
       "  <tbody>\n",
       "    <tr>\n",
       "      <td>0</td>\n",
       "      <td>i'm at @rivastkilda in st kilda, vic https://t...</td>\n",
       "      <td>[144.97481346, -37.87559865]</td>\n",
       "      <td>144.974813</td>\n",
       "      <td>-37.875599</td>\n",
       "      <td>C2</td>\n",
       "    </tr>\n",
       "    <tr>\n",
       "      <td>1</td>\n",
       "      <td>good guidance for all you ideas people coming ...</td>\n",
       "      <td>[144.97490982, -37.87546411]</td>\n",
       "      <td>144.974910</td>\n",
       "      <td>-37.875464</td>\n",
       "      <td>C2</td>\n",
       "    </tr>\n",
       "    <tr>\n",
       "      <td>2</td>\n",
       "      <td>my neighbours no matter where i live!! 💖� alis...</td>\n",
       "      <td>[144.97492373, -37.8754259]</td>\n",
       "      <td>144.974924</td>\n",
       "      <td>-37.875426</td>\n",
       "      <td>C2</td>\n",
       "    </tr>\n",
       "    <tr>\n",
       "      <td>3</td>\n",
       "      <td>😎�😎�😎�👯� @ riva st.kilda marina http://t.co/e6...</td>\n",
       "      <td>[144.97492373, -37.8754259]</td>\n",
       "      <td>144.974924</td>\n",
       "      <td>-37.875426</td>\n",
       "      <td>C2</td>\n",
       "    </tr>\n",
       "    <tr>\n",
       "      <td>4</td>\n",
       "      <td>pretty awesome day 1 @ riva st kilda https://t...</td>\n",
       "      <td>[144.97490908, -37.87539256]</td>\n",
       "      <td>144.974909</td>\n",
       "      <td>-37.875393</td>\n",
       "      <td>C2</td>\n",
       "    </tr>\n",
       "    <tr>\n",
       "      <td>...</td>\n",
       "      <td>...</td>\n",
       "      <td>...</td>\n",
       "      <td>...</td>\n",
       "      <td>...</td>\n",
       "      <td>...</td>\n",
       "    </tr>\n",
       "    <tr>\n",
       "      <td>9741</td>\n",
       "      <td>my classmates and i have done a good arrangeme...</td>\n",
       "      <td>[144.97549, -37.83737]</td>\n",
       "      <td>144.975490</td>\n",
       "      <td>-37.837370</td>\n",
       "      <td>C2</td>\n",
       "    </tr>\n",
       "    <tr>\n",
       "      <td>9742</td>\n",
       "      <td>selamat hari raya aidiladha (@ malaysian consu...</td>\n",
       "      <td>[144.97550286, -37.83742225]</td>\n",
       "      <td>144.975503</td>\n",
       "      <td>-37.837422</td>\n",
       "      <td>C2</td>\n",
       "    </tr>\n",
       "    <tr>\n",
       "      <td>9743</td>\n",
       "      <td>i'm at malaysian consulate general in melbourn...</td>\n",
       "      <td>[144.97550286, -37.83742225]</td>\n",
       "      <td>144.975503</td>\n",
       "      <td>-37.837422</td>\n",
       "      <td>C2</td>\n",
       "    </tr>\n",
       "    <tr>\n",
       "      <td>9744</td>\n",
       "      <td>underwater rugby: grrrls training session. htt...</td>\n",
       "      <td>[144.975159, -37.836926]</td>\n",
       "      <td>144.975159</td>\n",
       "      <td>-37.836926</td>\n",
       "      <td>C2</td>\n",
       "    </tr>\n",
       "    <tr>\n",
       "      <td>9745</td>\n",
       "      <td>ขอบคุณสำหรับ day off ที่อากาศดี</td>\n",
       "      <td>[144.97546357, -37.8369582]</td>\n",
       "      <td>144.975464</td>\n",
       "      <td>-37.836958</td>\n",
       "      <td>C2</td>\n",
       "    </tr>\n",
       "  </tbody>\n",
       "</table>\n",
       "<p>9746 rows × 5 columns</p>\n",
       "</div>"
      ],
      "text/plain": [
       "                                                   Text  \\\n",
       "0     i'm at @rivastkilda in st kilda, vic https://t...   \n",
       "1     good guidance for all you ideas people coming ...   \n",
       "2     my neighbours no matter where i live!! 💖� alis...   \n",
       "3     😎�😎�😎�👯� @ riva st.kilda marina http://t.co/e6...   \n",
       "4     pretty awesome day 1 @ riva st kilda https://t...   \n",
       "...                                                 ...   \n",
       "9741  my classmates and i have done a good arrangeme...   \n",
       "9742  selamat hari raya aidiladha (@ malaysian consu...   \n",
       "9743  i'm at malaysian consulate general in melbourn...   \n",
       "9744  underwater rugby: grrrls training session. htt...   \n",
       "9745                    ขอบคุณสำหรับ day off ที่อากาศดี   \n",
       "\n",
       "                       Coordinates         lat       long region  \n",
       "0     [144.97481346, -37.87559865]  144.974813 -37.875599     C2  \n",
       "1     [144.97490982, -37.87546411]  144.974910 -37.875464     C2  \n",
       "2      [144.97492373, -37.8754259]  144.974924 -37.875426     C2  \n",
       "3      [144.97492373, -37.8754259]  144.974924 -37.875426     C2  \n",
       "4     [144.97490908, -37.87539256]  144.974909 -37.875393     C2  \n",
       "...                            ...         ...        ...    ...  \n",
       "9741        [144.97549, -37.83737]  144.975490 -37.837370     C2  \n",
       "9742  [144.97550286, -37.83742225]  144.975503 -37.837422     C2  \n",
       "9743  [144.97550286, -37.83742225]  144.975503 -37.837422     C2  \n",
       "9744      [144.975159, -37.836926]  144.975159 -37.836926     C2  \n",
       "9745   [144.97546357, -37.8369582]  144.975464 -37.836958     C2  \n",
       "\n",
       "[9746 rows x 5 columns]"
      ]
     },
     "execution_count": 55,
     "metadata": {},
     "output_type": "execute_result"
    }
   ],
   "source": [
    "tweets_df_info"
   ]
  },
  {
   "cell_type": "markdown",
   "metadata": {},
   "source": [
    "* **clean up tweet text with regex**"
   ]
  },
  {
   "cell_type": "code",
   "execution_count": 56,
   "metadata": {},
   "outputs": [],
   "source": [
    "pattern = re.compile(r'(?:^|\\s)([A-Za-z\\'\\.\\’]+[A-Za-z])(?=\\s|\\Z)')\n",
    "tweets_df_info['Text'] = tweets_df_info['Text'].apply(lambda text: \" \".join(pattern.findall(text)))"
   ]
  },
  {
   "cell_type": "code",
   "execution_count": 57,
   "metadata": {},
   "outputs": [
    {
     "data": {
      "text/html": [
       "<div>\n",
       "<style scoped>\n",
       "    .dataframe tbody tr th:only-of-type {\n",
       "        vertical-align: middle;\n",
       "    }\n",
       "\n",
       "    .dataframe tbody tr th {\n",
       "        vertical-align: top;\n",
       "    }\n",
       "\n",
       "    .dataframe thead th {\n",
       "        text-align: right;\n",
       "    }\n",
       "</style>\n",
       "<table border=\"1\" class=\"dataframe\">\n",
       "  <thead>\n",
       "    <tr style=\"text-align: right;\">\n",
       "      <th></th>\n",
       "      <th>Text</th>\n",
       "      <th>Coordinates</th>\n",
       "      <th>lat</th>\n",
       "      <th>long</th>\n",
       "      <th>region</th>\n",
       "    </tr>\n",
       "  </thead>\n",
       "  <tbody>\n",
       "    <tr>\n",
       "      <td>0</td>\n",
       "      <td>i'm at in st vic</td>\n",
       "      <td>[144.97481346, -37.87559865]</td>\n",
       "      <td>144.974813</td>\n",
       "      <td>-37.875599</td>\n",
       "      <td>C2</td>\n",
       "    </tr>\n",
       "    <tr>\n",
       "      <td>1</td>\n",
       "      <td>good guidance for all you ideas people coming ...</td>\n",
       "      <td>[144.97490982, -37.87546411]</td>\n",
       "      <td>144.974910</td>\n",
       "      <td>-37.875464</td>\n",
       "      <td>C2</td>\n",
       "    </tr>\n",
       "    <tr>\n",
       "      <td>2</td>\n",
       "      <td>my neighbours no matter where alisonhardi riva...</td>\n",
       "      <td>[144.97492373, -37.8754259]</td>\n",
       "      <td>144.974924</td>\n",
       "      <td>-37.875426</td>\n",
       "      <td>C2</td>\n",
       "    </tr>\n",
       "    <tr>\n",
       "      <td>3</td>\n",
       "      <td>riva st.kilda marina</td>\n",
       "      <td>[144.97492373, -37.8754259]</td>\n",
       "      <td>144.974924</td>\n",
       "      <td>-37.875426</td>\n",
       "      <td>C2</td>\n",
       "    </tr>\n",
       "    <tr>\n",
       "      <td>4</td>\n",
       "      <td>pretty awesome day riva st kilda</td>\n",
       "      <td>[144.97490908, -37.87539256]</td>\n",
       "      <td>144.974909</td>\n",
       "      <td>-37.875393</td>\n",
       "      <td>C2</td>\n",
       "    </tr>\n",
       "    <tr>\n",
       "      <td>...</td>\n",
       "      <td>...</td>\n",
       "      <td>...</td>\n",
       "      <td>...</td>\n",
       "      <td>...</td>\n",
       "      <td>...</td>\n",
       "    </tr>\n",
       "    <tr>\n",
       "      <td>9741</td>\n",
       "      <td>my classmates and have done good arrangement t...</td>\n",
       "      <td>[144.97549, -37.83737]</td>\n",
       "      <td>144.975490</td>\n",
       "      <td>-37.837370</td>\n",
       "      <td>C2</td>\n",
       "    </tr>\n",
       "    <tr>\n",
       "      <td>9742</td>\n",
       "      <td>selamat hari raya aidiladha malaysian consulat...</td>\n",
       "      <td>[144.97550286, -37.83742225]</td>\n",
       "      <td>144.975503</td>\n",
       "      <td>-37.837422</td>\n",
       "      <td>C2</td>\n",
       "    </tr>\n",
       "    <tr>\n",
       "      <td>9743</td>\n",
       "      <td>i'm at malaysian consulate general in vic</td>\n",
       "      <td>[144.97550286, -37.83742225]</td>\n",
       "      <td>144.975503</td>\n",
       "      <td>-37.837422</td>\n",
       "      <td>C2</td>\n",
       "    </tr>\n",
       "    <tr>\n",
       "      <td>9744</td>\n",
       "      <td>underwater grrrls training</td>\n",
       "      <td>[144.975159, -37.836926]</td>\n",
       "      <td>144.975159</td>\n",
       "      <td>-37.836926</td>\n",
       "      <td>C2</td>\n",
       "    </tr>\n",
       "    <tr>\n",
       "      <td>9745</td>\n",
       "      <td>day off</td>\n",
       "      <td>[144.97546357, -37.8369582]</td>\n",
       "      <td>144.975464</td>\n",
       "      <td>-37.836958</td>\n",
       "      <td>C2</td>\n",
       "    </tr>\n",
       "  </tbody>\n",
       "</table>\n",
       "<p>9746 rows × 5 columns</p>\n",
       "</div>"
      ],
      "text/plain": [
       "                                                   Text  \\\n",
       "0                                      i'm at in st vic   \n",
       "1     good guidance for all you ideas people coming ...   \n",
       "2     my neighbours no matter where alisonhardi riva...   \n",
       "3                                  riva st.kilda marina   \n",
       "4                      pretty awesome day riva st kilda   \n",
       "...                                                 ...   \n",
       "9741  my classmates and have done good arrangement t...   \n",
       "9742  selamat hari raya aidiladha malaysian consulat...   \n",
       "9743          i'm at malaysian consulate general in vic   \n",
       "9744                         underwater grrrls training   \n",
       "9745                                            day off   \n",
       "\n",
       "                       Coordinates         lat       long region  \n",
       "0     [144.97481346, -37.87559865]  144.974813 -37.875599     C2  \n",
       "1     [144.97490982, -37.87546411]  144.974910 -37.875464     C2  \n",
       "2      [144.97492373, -37.8754259]  144.974924 -37.875426     C2  \n",
       "3      [144.97492373, -37.8754259]  144.974924 -37.875426     C2  \n",
       "4     [144.97490908, -37.87539256]  144.974909 -37.875393     C2  \n",
       "...                            ...         ...        ...    ...  \n",
       "9741        [144.97549, -37.83737]  144.975490 -37.837370     C2  \n",
       "9742  [144.97550286, -37.83742225]  144.975503 -37.837422     C2  \n",
       "9743  [144.97550286, -37.83742225]  144.975503 -37.837422     C2  \n",
       "9744      [144.975159, -37.836926]  144.975159 -37.836926     C2  \n",
       "9745   [144.97546357, -37.8369582]  144.975464 -37.836958     C2  \n",
       "\n",
       "[9746 rows x 5 columns]"
      ]
     },
     "execution_count": 57,
     "metadata": {},
     "output_type": "execute_result"
    }
   ],
   "source": [
    "tweets_df_info"
   ]
  },
  {
   "cell_type": "markdown",
   "metadata": {},
   "source": [
    "## 4. Read in the sentimental scroe guideline file"
   ]
  },
  {
   "cell_type": "code",
   "execution_count": 58,
   "metadata": {},
   "outputs": [],
   "source": [
    "sentiment_guide = pd.read_table('./data/AFINN.txt',names=['word','score'],index_col='word')"
   ]
  },
  {
   "cell_type": "code",
   "execution_count": 59,
   "metadata": {},
   "outputs": [
    {
     "data": {
      "text/plain": [
       "-3"
      ]
     },
     "execution_count": 59,
     "metadata": {},
     "output_type": "execute_result"
    }
   ],
   "source": [
    "sentiment_guide.head()\n",
    "sentiment_guide.at[\"can't stand\",'score']"
   ]
  },
  {
   "cell_type": "markdown",
   "metadata": {},
   "source": [
    "## 5. Calculate the sentiment score of a tweet\n",
    "* use index to search the score value will be 3x faster"
   ]
  },
  {
   "cell_type": "markdown",
   "metadata": {},
   "source": [
    "### 5.1 Define the function to calculate total sentiment score of given text"
   ]
  },
  {
   "cell_type": "code",
   "execution_count": 60,
   "metadata": {},
   "outputs": [],
   "source": [
    "def get_sentiment_score(tweet):\n",
    "    score = 0\n",
    "    if \"can't stand\" in tweet: score += sentiment_guide.at[\"can't stand\",'score']\n",
    "    for token in tweet.split():\n",
    "        score += sentiment_guide.at[token,'score'] if token in sentiment_guide.index else 0\n",
    "    return score"
   ]
  },
  {
   "cell_type": "code",
   "execution_count": 61,
   "metadata": {},
   "outputs": [],
   "source": [
    "tweets_df_info['sentiment'] = tweets_df_info['Text'].apply(get_sentiment_score)"
   ]
  },
  {
   "cell_type": "code",
   "execution_count": 62,
   "metadata": {},
   "outputs": [
    {
     "data": {
      "text/html": [
       "<div>\n",
       "<style scoped>\n",
       "    .dataframe tbody tr th:only-of-type {\n",
       "        vertical-align: middle;\n",
       "    }\n",
       "\n",
       "    .dataframe tbody tr th {\n",
       "        vertical-align: top;\n",
       "    }\n",
       "\n",
       "    .dataframe thead th {\n",
       "        text-align: right;\n",
       "    }\n",
       "</style>\n",
       "<table border=\"1\" class=\"dataframe\">\n",
       "  <thead>\n",
       "    <tr style=\"text-align: right;\">\n",
       "      <th></th>\n",
       "      <th>Text</th>\n",
       "      <th>Coordinates</th>\n",
       "      <th>lat</th>\n",
       "      <th>long</th>\n",
       "      <th>region</th>\n",
       "      <th>sentiment</th>\n",
       "    </tr>\n",
       "  </thead>\n",
       "  <tbody>\n",
       "    <tr>\n",
       "      <td>0</td>\n",
       "      <td>NaN</td>\n",
       "      <td>NaN</td>\n",
       "      <td>NaN</td>\n",
       "      <td>NaN</td>\n",
       "      <td>NaN</td>\n",
       "      <td>NaN</td>\n",
       "    </tr>\n",
       "    <tr>\n",
       "      <td>1</td>\n",
       "      <td>good guidance for all you ideas people coming ...</td>\n",
       "      <td>[144.97490982, -37.87546411]</td>\n",
       "      <td>144.974910</td>\n",
       "      <td>-37.875464</td>\n",
       "      <td>C2</td>\n",
       "      <td>3.0</td>\n",
       "    </tr>\n",
       "    <tr>\n",
       "      <td>2</td>\n",
       "      <td>NaN</td>\n",
       "      <td>NaN</td>\n",
       "      <td>NaN</td>\n",
       "      <td>NaN</td>\n",
       "      <td>NaN</td>\n",
       "      <td>NaN</td>\n",
       "    </tr>\n",
       "    <tr>\n",
       "      <td>3</td>\n",
       "      <td>NaN</td>\n",
       "      <td>NaN</td>\n",
       "      <td>NaN</td>\n",
       "      <td>NaN</td>\n",
       "      <td>NaN</td>\n",
       "      <td>NaN</td>\n",
       "    </tr>\n",
       "    <tr>\n",
       "      <td>4</td>\n",
       "      <td>NaN</td>\n",
       "      <td>NaN</td>\n",
       "      <td>NaN</td>\n",
       "      <td>NaN</td>\n",
       "      <td>NaN</td>\n",
       "      <td>NaN</td>\n",
       "    </tr>\n",
       "    <tr>\n",
       "      <td>...</td>\n",
       "      <td>...</td>\n",
       "      <td>...</td>\n",
       "      <td>...</td>\n",
       "      <td>...</td>\n",
       "      <td>...</td>\n",
       "      <td>...</td>\n",
       "    </tr>\n",
       "    <tr>\n",
       "      <td>9741</td>\n",
       "      <td>my classmates and have done good arrangement t...</td>\n",
       "      <td>[144.97549, -37.83737]</td>\n",
       "      <td>144.975490</td>\n",
       "      <td>-37.837370</td>\n",
       "      <td>C2</td>\n",
       "      <td>6.0</td>\n",
       "    </tr>\n",
       "    <tr>\n",
       "      <td>9742</td>\n",
       "      <td>NaN</td>\n",
       "      <td>NaN</td>\n",
       "      <td>NaN</td>\n",
       "      <td>NaN</td>\n",
       "      <td>NaN</td>\n",
       "      <td>NaN</td>\n",
       "    </tr>\n",
       "    <tr>\n",
       "      <td>9743</td>\n",
       "      <td>NaN</td>\n",
       "      <td>NaN</td>\n",
       "      <td>NaN</td>\n",
       "      <td>NaN</td>\n",
       "      <td>NaN</td>\n",
       "      <td>NaN</td>\n",
       "    </tr>\n",
       "    <tr>\n",
       "      <td>9744</td>\n",
       "      <td>NaN</td>\n",
       "      <td>NaN</td>\n",
       "      <td>NaN</td>\n",
       "      <td>NaN</td>\n",
       "      <td>NaN</td>\n",
       "      <td>NaN</td>\n",
       "    </tr>\n",
       "    <tr>\n",
       "      <td>9745</td>\n",
       "      <td>day off</td>\n",
       "      <td>[144.97546357, -37.8369582]</td>\n",
       "      <td>144.975464</td>\n",
       "      <td>-37.836958</td>\n",
       "      <td>C2</td>\n",
       "      <td>0.0</td>\n",
       "    </tr>\n",
       "  </tbody>\n",
       "</table>\n",
       "<p>9746 rows × 6 columns</p>\n",
       "</div>"
      ],
      "text/plain": [
       "                                                   Text  \\\n",
       "0                                                   NaN   \n",
       "1     good guidance for all you ideas people coming ...   \n",
       "2                                                   NaN   \n",
       "3                                                   NaN   \n",
       "4                                                   NaN   \n",
       "...                                                 ...   \n",
       "9741  my classmates and have done good arrangement t...   \n",
       "9742                                                NaN   \n",
       "9743                                                NaN   \n",
       "9744                                                NaN   \n",
       "9745                                            day off   \n",
       "\n",
       "                       Coordinates         lat       long region  sentiment  \n",
       "0                              NaN         NaN        NaN    NaN        NaN  \n",
       "1     [144.97490982, -37.87546411]  144.974910 -37.875464     C2        3.0  \n",
       "2                              NaN         NaN        NaN    NaN        NaN  \n",
       "3                              NaN         NaN        NaN    NaN        NaN  \n",
       "4                              NaN         NaN        NaN    NaN        NaN  \n",
       "...                            ...         ...        ...    ...        ...  \n",
       "9741        [144.97549, -37.83737]  144.975490 -37.837370     C2        6.0  \n",
       "9742                           NaN         NaN        NaN    NaN        NaN  \n",
       "9743                           NaN         NaN        NaN    NaN        NaN  \n",
       "9744                           NaN         NaN        NaN    NaN        NaN  \n",
       "9745   [144.97546357, -37.8369582]  144.975464 -37.836958     C2        0.0  \n",
       "\n",
       "[9746 rows x 6 columns]"
      ]
     },
     "execution_count": 62,
     "metadata": {},
     "output_type": "execute_result"
    }
   ],
   "source": [
    "tweets_df_info[tweets_df_info.apply(lambda df: df.index%4 == 1)]"
   ]
  },
  {
   "cell_type": "markdown",
   "metadata": {},
   "source": [
    "## 6. Calculate the Happy Region Ranking"
   ]
  },
  {
   "cell_type": "code",
   "execution_count": 63,
   "metadata": {},
   "outputs": [],
   "source": [
    "region_counts = tweets_df_info.groupby('region').count()\n",
    "region_counts = region_counts.drop(columns=['lat','long','sentiment','Coordinates'])\n",
    "region_counts.columns = ['#Total Tweets']"
   ]
  },
  {
   "cell_type": "code",
   "execution_count": 64,
   "metadata": {},
   "outputs": [],
   "source": [
    "region_score = tweets_df_info.groupby('region').sum()\n",
    "region_score = region_score.drop(columns=['lat','long'])\n",
    "region_score.columns = ['#Overall Sentiment Score']"
   ]
  },
  {
   "cell_type": "code",
   "execution_count": 65,
   "metadata": {},
   "outputs": [
    {
     "data": {
      "text/html": [
       "<div>\n",
       "<style scoped>\n",
       "    .dataframe tbody tr th:only-of-type {\n",
       "        vertical-align: middle;\n",
       "    }\n",
       "\n",
       "    .dataframe tbody tr th {\n",
       "        vertical-align: top;\n",
       "    }\n",
       "\n",
       "    .dataframe thead th {\n",
       "        text-align: right;\n",
       "    }\n",
       "</style>\n",
       "<table border=\"1\" class=\"dataframe\">\n",
       "  <thead>\n",
       "    <tr style=\"text-align: right;\">\n",
       "      <th></th>\n",
       "      <th>#Total Tweets</th>\n",
       "      <th>#Overall Sentiment Score</th>\n",
       "    </tr>\n",
       "    <tr>\n",
       "      <th>region</th>\n",
       "      <th></th>\n",
       "      <th></th>\n",
       "    </tr>\n",
       "  </thead>\n",
       "  <tbody>\n",
       "    <tr>\n",
       "      <td>C2</td>\n",
       "      <td>9746</td>\n",
       "      <td>9068</td>\n",
       "    </tr>\n",
       "  </tbody>\n",
       "</table>\n",
       "</div>"
      ],
      "text/plain": [
       "        #Total Tweets  #Overall Sentiment Score\n",
       "region                                         \n",
       "C2               9746                      9068"
      ]
     },
     "execution_count": 65,
     "metadata": {},
     "output_type": "execute_result"
    }
   ],
   "source": [
    "result = region_counts.join(region_score,on=\"region\").sort_values('region')"
   ]
  },
  {
   "cell_type": "markdown",
   "metadata": {},
   "source": [
    "## Testing Blocks"
   ]
  },
  {
   "cell_type": "code",
   "execution_count": 66,
   "metadata": {},
   "outputs": [
    {
     "data": {
      "text/plain": [
       "['good', 'guidance', 'for', 'all', 'you', 'ideas', 'people', 'coming']"
      ]
     },
     "execution_count": 66,
     "metadata": {},
     "output_type": "execute_result"
    }
   ],
   "source": [
    "text = \"good guidance for all you ideas people coming...\"\n",
    "pattern = re.compile(r'(?:^|\\s)([A-Za-z\\'\\.\\’]+[A-Za-z])(?=\\b|\\Z)')\n",
    "pattern.findall(text)"
   ]
  },
  {
   "cell_type": "code",
   "execution_count": 67,
   "metadata": {},
   "outputs": [
    {
     "ename": "ZeroDivisionError",
     "evalue": "integer division or modulo by zero",
     "output_type": "error",
     "traceback": [
      "\u001b[0;31m---------------------------------------------------------------------------\u001b[0m",
      "\u001b[0;31mZeroDivisionError\u001b[0m                         Traceback (most recent call last)",
      "\u001b[0;32m<ipython-input-67-29746e9220ea>\u001b[0m in \u001b[0;36m<module>\u001b[0;34m\u001b[0m\n\u001b[0;32m----> 1\u001b[0;31m \u001b[0;36m1\u001b[0m\u001b[0;34m%\u001b[0m\u001b[0;36m0\u001b[0m\u001b[0;34m\u001b[0m\u001b[0;34m\u001b[0m\u001b[0m\n\u001b[0m",
      "\u001b[0;31mZeroDivisionError\u001b[0m: integer division or modulo by zero"
     ]
    }
   ],
   "source": [
    "1%0"
   ]
  },
  {
   "cell_type": "code",
   "execution_count": null,
   "metadata": {},
   "outputs": [],
   "source": [
    "1%4"
   ]
  },
  {
   "cell_type": "code",
   "execution_count": null,
   "metadata": {},
   "outputs": [],
   "source": [
    "tweets_df_info[tweets_df_info.apply(lambda df: df.index%4 == 2)].dropna()"
   ]
  },
  {
   "cell_type": "code",
   "execution_count": null,
   "metadata": {},
   "outputs": [],
   "source": [
    "tweets_list= tweets_df_info.values.tolist()\n",
    "tweets_list"
   ]
  },
  {
   "cell_type": "code",
   "execution_count": null,
   "metadata": {},
   "outputs": [],
   "source": []
  }
 ],
 "metadata": {
  "kernelspec": {
   "display_name": "Python 3",
   "language": "python",
   "name": "python3"
  },
  "language_info": {
   "codemirror_mode": {
    "name": "ipython",
    "version": 3
   },
   "file_extension": ".py",
   "mimetype": "text/x-python",
   "name": "python",
   "nbconvert_exporter": "python",
   "pygments_lexer": "ipython3",
   "version": "3.7.4"
  }
 },
 "nbformat": 4,
 "nbformat_minor": 2
}
